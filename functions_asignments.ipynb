{
  "nbformat": 4,
  "nbformat_minor": 0,
  "metadata": {
    "colab": {
      "provenance": [],
      "authorship_tag": "ABX9TyO8+hou3ZmFEtEHKhOKcw+y",
      "include_colab_link": true
    },
    "kernelspec": {
      "name": "python3",
      "display_name": "Python 3"
    },
    "language_info": {
      "name": "python"
    }
  },
  "cells": [
    {
      "cell_type": "markdown",
      "metadata": {
        "id": "view-in-github",
        "colab_type": "text"
      },
      "source": [
        "<a href=\"https://colab.research.google.com/github/vijaysolanki07079/python_basic_by_vs/blob/main/functions_asignments.ipynb\" target=\"_parent\"><img src=\"https://colab.research.google.com/assets/colab-badge.svg\" alt=\"Open In Colab\"/></a>"
      ]
    },
    {
      "cell_type": "markdown",
      "source": [],
      "metadata": {
        "id": "9QG5QRm-al-V"
      }
    },
    {
      "cell_type": "markdown",
      "source": [
        "# Q.1 What is the difference between functions and method?"
      ],
      "metadata": {
        "id": "pgnQboczNQ4d"
      }
    },
    {
      "cell_type": "markdown",
      "source": [
        "  - Functions are independent blocks of code that can be called from anywhere, while methods are tied to objects or classes and need an object or class instance to be invoked."
      ],
      "metadata": {
        "id": "jJYucPT1bACF"
      }
    },
    {
      "cell_type": "markdown",
      "source": [
        "# Q.2 Explain the concept of function arguments and parameters in Python.\n",
        "  - Arguments are the variables passed to the function in the function call. · Parameters are the variables used in the function definition. · The number of arguments ...\n"
      ],
      "metadata": {
        "id": "TWMnFh0-bb41"
      }
    },
    {
      "cell_type": "markdown",
      "source": [
        "# Q3. What are the different ways to define and call a function in Python?\n",
        "  - To define a function in Python, you can use the def keyword, followed by the function name, parameters, and a colon. To call a function, you can use the function name followed by parentheses."
      ],
      "metadata": {
        "id": "fYCQUh_ib8zB"
      }
    },
    {
      "cell_type": "code",
      "source": [
        "# define a add function\n",
        "def add(a,b):\n",
        "  return a+b"
      ],
      "metadata": {
        "id": "9-ui5BCRcUgr"
      },
      "execution_count": null,
      "outputs": []
    },
    {
      "cell_type": "code",
      "source": [
        "#calling a function\n",
        "add(2,3)"
      ],
      "metadata": {
        "colab": {
          "base_uri": "https://localhost:8080/"
        },
        "id": "e0zotZxrcejB",
        "outputId": "13fe0f47-ea98-4c0c-e2b8-bfd58b77cea9"
      },
      "execution_count": null,
      "outputs": [
        {
          "output_type": "execute_result",
          "data": {
            "text/plain": [
              "5"
            ]
          },
          "metadata": {},
          "execution_count": 2
        }
      ]
    },
    {
      "cell_type": "markdown",
      "source": [
        "# Q4. What is the purpose of the `return` statement in a Python function?\n",
        "  - In a Python function, the return statement is used to specify the value or result that the function should send back to the part of the code that called it, effectively ending the function execution and providing an output from the function to be used elsewhere in the program.\n"
      ],
      "metadata": {
        "id": "DUUginlxcyq9"
      }
    },
    {
      "cell_type": "code",
      "source": [
        "# return statement\n",
        "def squr(a):\n",
        "  return a**2"
      ],
      "metadata": {
        "id": "B2RzxIjidDVT"
      },
      "execution_count": null,
      "outputs": []
    },
    {
      "cell_type": "code",
      "source": [
        "squr(6)"
      ],
      "metadata": {
        "colab": {
          "base_uri": "https://localhost:8080/"
        },
        "id": "6_rd4KrHnNSk",
        "outputId": "c9d11f39-fbfd-4aa2-e13c-5ce58d1f63ca"
      },
      "execution_count": null,
      "outputs": [
        {
          "output_type": "execute_result",
          "data": {
            "text/plain": [
              "36"
            ]
          },
          "metadata": {},
          "execution_count": 2
        }
      ]
    },
    {
      "cell_type": "markdown",
      "source": [
        "# Q5. What are iterators in Python and how do they differ from iterables?\n",
        "  -  — An iterable is an object which can be iterated upon, and an iterator is an object which keeps a state and produces the next value each time it is iterated upon.\n"
      ],
      "metadata": {
        "id": "o_i68vqCnVxS"
      }
    },
    {
      "cell_type": "code",
      "source": [
        "l = [1,2,3,4]# here the list l is itrable object\n",
        "for i in l:\n",
        "  print(i)"
      ],
      "metadata": {
        "colab": {
          "base_uri": "https://localhost:8080/"
        },
        "id": "Tt1apI1DnSXF",
        "outputId": "bb2b223c-83c0-48a3-d34d-723d432f343f"
      },
      "execution_count": null,
      "outputs": [
        {
          "output_type": "stream",
          "name": "stdout",
          "text": [
            "1\n",
            "2\n",
            "3\n",
            "4\n"
          ]
        }
      ]
    },
    {
      "cell_type": "code",
      "source": [
        "a = iter(l) # iterator object created"
      ],
      "metadata": {
        "colab": {
          "base_uri": "https://localhost:8080/"
        },
        "id": "1t9IDW-noDKH",
        "outputId": "d25b7370-6cc1-4381-9a90-e3b34e072cad"
      },
      "execution_count": null,
      "outputs": [
        {
          "output_type": "stream",
          "name": "stdout",
          "text": [
            "<list_iterator object at 0x7eafe74e0c10>\n"
          ]
        }
      ]
    },
    {
      "cell_type": "code",
      "source": [
        "next(a)"
      ],
      "metadata": {
        "colab": {
          "base_uri": "https://localhost:8080/"
        },
        "id": "PVcYBPLGpH7w",
        "outputId": "7b02e3b8-8d61-4377-cb17-ec5e5dea93dc"
      },
      "execution_count": null,
      "outputs": [
        {
          "output_type": "execute_result",
          "data": {
            "text/plain": [
              "1"
            ]
          },
          "metadata": {},
          "execution_count": 13
        }
      ]
    },
    {
      "cell_type": "code",
      "source": [
        "next(a)"
      ],
      "metadata": {
        "colab": {
          "base_uri": "https://localhost:8080/"
        },
        "id": "tgpRecyqpJWb",
        "outputId": "ecd8124f-e72b-4ec8-95d1-e2570d6cd4f5"
      },
      "execution_count": null,
      "outputs": [
        {
          "output_type": "execute_result",
          "data": {
            "text/plain": [
              "2"
            ]
          },
          "metadata": {},
          "execution_count": 14
        }
      ]
    },
    {
      "cell_type": "code",
      "source": [
        "next(a)"
      ],
      "metadata": {
        "colab": {
          "base_uri": "https://localhost:8080/"
        },
        "id": "olVfoKpWpLOX",
        "outputId": "c5696efd-193c-4a2c-f9c7-abad8db1eea2"
      },
      "execution_count": null,
      "outputs": [
        {
          "output_type": "execute_result",
          "data": {
            "text/plain": [
              "3"
            ]
          },
          "metadata": {},
          "execution_count": 16
        }
      ]
    },
    {
      "cell_type": "code",
      "source": [
        "next(a)"
      ],
      "metadata": {
        "colab": {
          "base_uri": "https://localhost:8080/"
        },
        "id": "d0XBoUnwpQJk",
        "outputId": "1827e765-74d8-4e12-9cf3-514e0e041b96"
      },
      "execution_count": null,
      "outputs": [
        {
          "output_type": "execute_result",
          "data": {
            "text/plain": [
              "4"
            ]
          },
          "metadata": {},
          "execution_count": 17
        }
      ]
    },
    {
      "cell_type": "code",
      "source": [
        "next(a)"
      ],
      "metadata": {
        "colab": {
          "base_uri": "https://localhost:8080/"
        },
        "id": "wift428ApUzN",
        "outputId": "2ae5085c-cdcb-491b-c327-05601653e833"
      },
      "execution_count": null,
      "outputs": [
        {
          "output_type": "execute_result",
          "data": {
            "text/plain": [
              "<list_iterator at 0x7eafe71fc040>"
            ]
          },
          "metadata": {},
          "execution_count": 18
        }
      ]
    },
    {
      "cell_type": "code",
      "source": [
        "s = \"i am vijay solanki\"\n",
        "for i in s:\n",
        "  print(i)"
      ],
      "metadata": {
        "colab": {
          "base_uri": "https://localhost:8080/"
        },
        "id": "3AMJkNH_pm2I",
        "outputId": "1af6455f-2a03-4242-ce99-6a21c5e1eba6"
      },
      "execution_count": null,
      "outputs": [
        {
          "output_type": "stream",
          "name": "stdout",
          "text": [
            "i\n",
            " \n",
            "a\n",
            "m\n",
            " \n",
            "v\n",
            "i\n",
            "j\n",
            "a\n",
            "y\n",
            " \n",
            "s\n",
            "o\n",
            "l\n",
            "a\n",
            "n\n",
            "k\n",
            "i\n"
          ]
        }
      ]
    },
    {
      "cell_type": "code",
      "source": [
        "b = iter(s)\n",
        "next(b)"
      ],
      "metadata": {
        "colab": {
          "base_uri": "https://localhost:8080/",
          "height": 36
        },
        "id": "5UOYOE2qp1MR",
        "outputId": "ef8c4e3e-c863-411a-f186-98c47ec04319"
      },
      "execution_count": null,
      "outputs": [
        {
          "output_type": "execute_result",
          "data": {
            "text/plain": [
              "'i'"
            ],
            "application/vnd.google.colaboratory.intrinsic+json": {
              "type": "string"
            }
          },
          "metadata": {},
          "execution_count": 23
        }
      ]
    },
    {
      "cell_type": "markdown",
      "source": [
        "# Q6. Explain the concept of generators in Python and how they are defined.\n",
        "  - A generator in Python is a special type of function that generates a sequence of values on demand, one at a time, using the \"yield\" keyword instead of \"return\", making it memory-efficient as it doesn't need to store the entire sequence in memory at once; essentially, it acts like an iterator that produces values lazily during iteration.\n"
      ],
      "metadata": {
        "id": "27zs6r-KqQdn"
      }
    },
    {
      "cell_type": "code",
      "source": [
        "# concept of generator\n",
        "def sq(n):\n",
        "  for i in n:\n",
        "    yield i**2"
      ],
      "metadata": {
        "id": "8AzpjGhoqzuV"
      },
      "execution_count": null,
      "outputs": []
    },
    {
      "cell_type": "code",
      "source": [
        "a= (sq([1,2,3,4,5]))"
      ],
      "metadata": {
        "colab": {
          "base_uri": "https://localhost:8080/"
        },
        "id": "Jf8diS4MxwXz",
        "outputId": "a91a3c73-fd1e-4d52-eeae-ac214d249c36"
      },
      "execution_count": null,
      "outputs": [
        {
          "output_type": "execute_result",
          "data": {
            "text/plain": [
              "<generator object sq at 0x7eafb0cfaf60>"
            ]
          },
          "metadata": {},
          "execution_count": 31
        }
      ]
    },
    {
      "cell_type": "code",
      "source": [
        "next(a)"
      ],
      "metadata": {
        "colab": {
          "base_uri": "https://localhost:8080/"
        },
        "id": "TWQzzYpMx0Pm",
        "outputId": "5744db2b-afc9-4cee-c83a-13453569d9ac"
      },
      "execution_count": null,
      "outputs": [
        {
          "output_type": "execute_result",
          "data": {
            "text/plain": [
              "9"
            ]
          },
          "metadata": {},
          "execution_count": 32
        }
      ]
    },
    {
      "cell_type": "code",
      "source": [
        "next(a)"
      ],
      "metadata": {
        "colab": {
          "base_uri": "https://localhost:8080/"
        },
        "id": "KHLg8Dhwx6pl",
        "outputId": "537ee80f-d729-49d1-9b4c-c82d905ef5b3"
      },
      "execution_count": null,
      "outputs": [
        {
          "output_type": "execute_result",
          "data": {
            "text/plain": [
              "16"
            ]
          },
          "metadata": {},
          "execution_count": 33
        }
      ]
    },
    {
      "cell_type": "code",
      "source": [
        "next(a)"
      ],
      "metadata": {
        "colab": {
          "base_uri": "https://localhost:8080/"
        },
        "id": "RAkPFXqwyTRt",
        "outputId": "03f127e8-ff54-4679-9b27-de9eddff3dff"
      },
      "execution_count": null,
      "outputs": [
        {
          "output_type": "execute_result",
          "data": {
            "text/plain": [
              "25"
            ]
          },
          "metadata": {},
          "execution_count": 34
        }
      ]
    },
    {
      "cell_type": "markdown",
      "source": [
        "# Q7. What are the advantages of using generators over regular functions?\n",
        "  - The primary advantage of using generators over regular functions is their ability to generate values on-demand, one at a time, which significantly reduces memory usage by only calculating values when they are needed, making them ideal for large datasets or situations where you don't need the entire sequence stored in memory at once; this is called \"lazy evaluation\".\n"
      ],
      "metadata": {
        "id": "huPwRMGBzdQ2"
      }
    },
    {
      "cell_type": "code",
      "source": [
        "# generator\n",
        "def feb(x):\n",
        "  a,b = 0,1\n",
        "  n = []\n",
        "  for i in range(x):\n",
        "    a,b = b, a+b\n",
        "    n.append(a)\n",
        "  return n"
      ],
      "metadata": {
        "id": "xl60PaJgzz8Q"
      },
      "execution_count": null,
      "outputs": []
    },
    {
      "cell_type": "code",
      "source": [
        "feb(10)"
      ],
      "metadata": {
        "colab": {
          "base_uri": "https://localhost:8080/"
        },
        "id": "AABK_vIG0bQl",
        "outputId": "44f2158b-e5d4-446b-ce65-c66666768d2b"
      },
      "execution_count": null,
      "outputs": [
        {
          "output_type": "execute_result",
          "data": {
            "text/plain": [
              "[1, 1, 2, 3, 5, 8, 13, 21, 34, 55]"
            ]
          },
          "metadata": {},
          "execution_count": 50
        }
      ]
    },
    {
      "cell_type": "code",
      "source": [
        "# generator\n",
        "def feb(x):\n",
        "  a,b = 0,1\n",
        "  n = []\n",
        "  for i in x:\n",
        "    a,b = b, a+b\n",
        "    n.append(a)\n",
        "  yield n"
      ],
      "metadata": {
        "id": "Og5s_xS609KN"
      },
      "execution_count": null,
      "outputs": []
    },
    {
      "cell_type": "code",
      "source": [
        "a = feb([1,2,3,4,5,6])"
      ],
      "metadata": {
        "id": "n4NGjg0f1ORx"
      },
      "execution_count": null,
      "outputs": []
    },
    {
      "cell_type": "code",
      "source": [
        "next(a)"
      ],
      "metadata": {
        "colab": {
          "base_uri": "https://localhost:8080/"
        },
        "id": "BpLimCV-1rIX",
        "outputId": "dfeccb02-e804-4e4b-adb5-4503c4565871"
      },
      "execution_count": null,
      "outputs": [
        {
          "output_type": "execute_result",
          "data": {
            "text/plain": [
              "[1, 1, 2, 3, 5, 8]"
            ]
          },
          "metadata": {},
          "execution_count": 74
        }
      ]
    },
    {
      "cell_type": "markdown",
      "source": [
        "# Q8. What is a lambda function in Python and when is it typically used?\n",
        "  - A lambda function in Python is a function without a name, also known as an anonymous function. It's used to create simple functions, such as those that are single-line statements. Lambda functions are useful when you only need to use a function once.\n"
      ],
      "metadata": {
        "id": "4uF2Ap3FXHhV"
      }
    },
    {
      "cell_type": "code",
      "source": [
        "# lambda function vs normal fuction\n",
        "def add(a,b):\n",
        "  return a+b"
      ],
      "metadata": {
        "id": "mRhqas54XuoV"
      },
      "execution_count": null,
      "outputs": []
    },
    {
      "cell_type": "code",
      "source": [
        "add(2,3)"
      ],
      "metadata": {
        "colab": {
          "base_uri": "https://localhost:8080/"
        },
        "id": "Fd5Q0FnEX4dn",
        "outputId": "8797b68d-0e33-4ebc-f6e6-320ebe1e18ba"
      },
      "execution_count": null,
      "outputs": [
        {
          "output_type": "execute_result",
          "data": {
            "text/plain": [
              "5"
            ]
          },
          "metadata": {},
          "execution_count": 2
        }
      ]
    },
    {
      "cell_type": "code",
      "source": [
        "#using lambda func we can short the function\n",
        "add1 = lambda a,b : a+b"
      ],
      "metadata": {
        "id": "pTDbo8HaX7er"
      },
      "execution_count": null,
      "outputs": []
    },
    {
      "cell_type": "code",
      "source": [
        "add1(5,6)"
      ],
      "metadata": {
        "colab": {
          "base_uri": "https://localhost:8080/"
        },
        "id": "DGJ6IQ5CYIXS",
        "outputId": "2bf96c0c-461d-418a-f4ac-426249266694"
      },
      "execution_count": null,
      "outputs": [
        {
          "output_type": "execute_result",
          "data": {
            "text/plain": [
              "11"
            ]
          },
          "metadata": {},
          "execution_count": 7
        }
      ]
    },
    {
      "cell_type": "code",
      "source": [
        "# syntax of lambda is\n",
        "# lambda argument: expression or statement\n",
        "fib = (lambda a : a if a<=1 else fib(a-1)+fib(a-2))"
      ],
      "metadata": {
        "id": "Ti-FPgCFYLbw"
      },
      "execution_count": null,
      "outputs": []
    },
    {
      "cell_type": "code",
      "source": [
        "fib(16)"
      ],
      "metadata": {
        "colab": {
          "base_uri": "https://localhost:8080/"
        },
        "id": "5_8Mk4GghwyA",
        "outputId": "f1d70f0b-d07d-4c73-f621-6a0865dc2ff6"
      },
      "execution_count": null,
      "outputs": [
        {
          "output_type": "execute_result",
          "data": {
            "text/plain": [
              "987"
            ]
          },
          "metadata": {},
          "execution_count": 64
        }
      ]
    },
    {
      "cell_type": "markdown",
      "source": [
        "# Q9. Explain the purpose and usage of the `map()` function in Python.\n",
        "  - In Python, the map() function is used to apply a specific function to every element of an iterable (like a list or tuple), effectively \"mapping\" the function across all items and returning an iterator containing the transformed results, allowing you to perform the same operation on multiple elements without writing explicit loops.\n"
      ],
      "metadata": {
        "id": "RYQ2Rd0jbFkG"
      }
    },
    {
      "cell_type": "code",
      "source": [
        "# syntax of map function\n",
        "#map(func,iterable)\n",
        "list(map(lambda a : a**2,[1,2,3,4,5]))"
      ],
      "metadata": {
        "colab": {
          "base_uri": "https://localhost:8080/"
        },
        "id": "VCFgfSJDbfBS",
        "outputId": "104bb63d-23ab-43be-e8ca-cd3230177e74"
      },
      "execution_count": null,
      "outputs": [
        {
          "output_type": "execute_result",
          "data": {
            "text/plain": [
              "[1, 4, 9, 16, 25]"
            ]
          },
          "metadata": {},
          "execution_count": 52
        }
      ]
    },
    {
      "cell_type": "code",
      "source": [
        "l = [5,6,4,7,8,9,9]\n",
        "list(map(lambda a : a**2,l))# squr using map func"
      ],
      "metadata": {
        "colab": {
          "base_uri": "https://localhost:8080/"
        },
        "id": "MWlEN-ZgeEoI",
        "outputId": "6afcded7-b933-4611-b726-85bcf32a6ea9"
      },
      "execution_count": null,
      "outputs": [
        {
          "output_type": "execute_result",
          "data": {
            "text/plain": [
              "[25, 36, 16, 49, 64, 81, 81]"
            ]
          },
          "metadata": {},
          "execution_count": 54
        }
      ]
    },
    {
      "cell_type": "code",
      "source": [
        "list(map(lambda x: str(x),[1,2,3,4,5]))"
      ],
      "metadata": {
        "colab": {
          "base_uri": "https://localhost:8080/"
        },
        "id": "cwIp5JXXhND3",
        "outputId": "2a9381df-74fb-4867-c4ee-a3777d46b0da"
      },
      "execution_count": null,
      "outputs": [
        {
          "output_type": "execute_result",
          "data": {
            "text/plain": [
              "['1', '2', '3', '4', '5']"
            ]
          },
          "metadata": {},
          "execution_count": 68
        }
      ]
    },
    {
      "cell_type": "code",
      "source": [
        "list(map(lambda x: x.upper(),[\"vijay\",\"sanjay\"]))"
      ],
      "metadata": {
        "colab": {
          "base_uri": "https://localhost:8080/"
        },
        "id": "-oewLhJOigJo",
        "outputId": "15aacd3f-e858-40db-93fb-f115bc93372a"
      },
      "execution_count": null,
      "outputs": [
        {
          "output_type": "execute_result",
          "data": {
            "text/plain": [
              "['VIJAY', 'SANJAY']"
            ]
          },
          "metadata": {},
          "execution_count": 76
        }
      ]
    },
    {
      "cell_type": "code",
      "source": [
        "list(map(lambda x: x.count(\"v\"),[\"vijay\",\"sanjay\",\"vijay\",\"vijay\"]))"
      ],
      "metadata": {
        "colab": {
          "base_uri": "https://localhost:8080/"
        },
        "id": "BJFbaj2zixcV",
        "outputId": "2ff5de01-ecdf-4477-af1a-fced029e4f93"
      },
      "execution_count": null,
      "outputs": [
        {
          "output_type": "execute_result",
          "data": {
            "text/plain": [
              "[1, 0, 1, 1]"
            ]
          },
          "metadata": {},
          "execution_count": 83
        }
      ]
    },
    {
      "cell_type": "code",
      "source": [
        "list(map(lambda x,y,z : x+y+z,[1,2,3,4,5],[100,200,300,400,5000],[1,2,3,5,6]))"
      ],
      "metadata": {
        "colab": {
          "base_uri": "https://localhost:8080/"
        },
        "id": "-9ricdKrlDUv",
        "outputId": "68dac526-a8dc-4d65-9df4-2f25504249a3"
      },
      "execution_count": null,
      "outputs": [
        {
          "output_type": "execute_result",
          "data": {
            "text/plain": [
              "[102, 204, 306, 409, 5011]"
            ]
          },
          "metadata": {},
          "execution_count": 87
        }
      ]
    },
    {
      "cell_type": "markdown",
      "source": [
        "# Q10. What is the difference between `map()`, `reduce()`, and `filter()` functions in Python?\n",
        "  - In Python, \"map()\" applies a function to every element of an iterable, returning a new iterable with the transformed elements; \"filter()\" selects elements from an iterable based on a condition, returning only those that satisfy the condition; and \"reduce()\" combines all elements of an iterable into a single value by applying a function cumulatively to pairs of elements.\n",
        "  # key points\n",
        "  -\n",
        "map(): Transforms each element in a sequence using a provided function.\n",
        "   - filter():\n",
        "\n",
        "    Selects elements from a sequence based on a condition (returning only elements that evaluate to True).\n",
        "\n",
        "  - reduce():\n",
        "  \n",
        "    Aggregates elements of a sequence into a single value by applying a function cumulatively."
      ],
      "metadata": {
        "id": "IM0jGfDUljqR"
      }
    },
    {
      "cell_type": "code",
      "source": [
        "# map example\n",
        "list(map(lambda x: x**2,[1,2,3,4,5]))"
      ],
      "metadata": {
        "colab": {
          "base_uri": "https://localhost:8080/"
        },
        "id": "kbZu6wq8mW_J",
        "outputId": "d4f3c99e-e66e-4170-bc00-5846314ae218"
      },
      "execution_count": null,
      "outputs": [
        {
          "output_type": "execute_result",
          "data": {
            "text/plain": [
              "[1, 4, 9, 16, 25]"
            ]
          },
          "metadata": {},
          "execution_count": 88
        }
      ]
    },
    {
      "cell_type": "code",
      "source": [
        "from functools import reduce\n",
        "# reduce example\n",
        "reduce(lambda x,y : x+y,[1,2,3,4,5])"
      ],
      "metadata": {
        "colab": {
          "base_uri": "https://localhost:8080/"
        },
        "id": "-P67VdPTmYkj",
        "outputId": "abb981cc-3aab-47bb-e4ff-fabf43dc474a"
      },
      "execution_count": null,
      "outputs": [
        {
          "output_type": "execute_result",
          "data": {
            "text/plain": [
              "15"
            ]
          },
          "metadata": {},
          "execution_count": 90
        }
      ]
    },
    {
      "cell_type": "code",
      "source": [
        "from functools import reduce\n",
        "# reduce example\n",
        "reduce(lambda x,y : x*y,[1,2,3,4,5])"
      ],
      "metadata": {
        "colab": {
          "base_uri": "https://localhost:8080/"
        },
        "id": "6I1SYVAXm6RZ",
        "outputId": "a8cf55da-1b67-4dd5-aee7-5af3c88e2059"
      },
      "execution_count": null,
      "outputs": [
        {
          "output_type": "execute_result",
          "data": {
            "text/plain": [
              "120"
            ]
          },
          "metadata": {},
          "execution_count": 96
        }
      ]
    },
    {
      "cell_type": "code",
      "source": [
        "reduce(lambda x,y : x if x>y else y,[1,2,3,4,5])"
      ],
      "metadata": {
        "colab": {
          "base_uri": "https://localhost:8080/"
        },
        "id": "SlJKwzk_nLTB",
        "outputId": "068c3a1b-3bfa-4340-ddfc-99585ac40fa9"
      },
      "execution_count": null,
      "outputs": [
        {
          "output_type": "execute_result",
          "data": {
            "text/plain": [
              "5"
            ]
          },
          "metadata": {},
          "execution_count": 97
        }
      ]
    },
    {
      "cell_type": "code",
      "source": [
        "list(filter(lambda x : x%2==0,[1,2,3,4,5,6,7,8,9]))"
      ],
      "metadata": {
        "colab": {
          "base_uri": "https://localhost:8080/"
        },
        "id": "pUaWgvdyoB9z",
        "outputId": "ca2029de-5cf6-49da-df42-0ba4b5f617ca"
      },
      "execution_count": null,
      "outputs": [
        {
          "output_type": "execute_result",
          "data": {
            "text/plain": [
              "[2, 4, 6, 8]"
            ]
          },
          "metadata": {},
          "execution_count": 111
        }
      ]
    },
    {
      "cell_type": "code",
      "source": [
        "list(filter(lambda x: x%2 != 0,l))"
      ],
      "metadata": {
        "colab": {
          "base_uri": "https://localhost:8080/"
        },
        "id": "3swpZSrtpOdr",
        "outputId": "2d7d00ce-0070-4ae2-86c7-5e4f2dd0abee"
      },
      "execution_count": null,
      "outputs": [
        {
          "output_type": "execute_result",
          "data": {
            "text/plain": [
              "[5, 7, 9, 9]"
            ]
          },
          "metadata": {},
          "execution_count": 113
        }
      ]
    },
    {
      "cell_type": "code",
      "source": [
        "reduce(lambda x,y: x if x%2 != 0 else y,  [47,12,42,13])"
      ],
      "metadata": {
        "colab": {
          "base_uri": "https://localhost:8080/"
        },
        "id": "jtQDjCA51Vac",
        "outputId": "45ce6db4-ba25-4c7e-ba2e-1921c23fc36a"
      },
      "execution_count": null,
      "outputs": [
        {
          "output_type": "execute_result",
          "data": {
            "text/plain": [
              "47"
            ]
          },
          "metadata": {},
          "execution_count": 13
        }
      ]
    },
    {
      "cell_type": "markdown",
      "source": [
        "# Q11. Using pen & Paper write the internal mechanism for sum operation using  reduce function on this given   list:[47,11,42,13];\n",
        "  -"
      ],
      "metadata": {
        "id": "ncn0YSAbx5Ws"
      }
    },
    {
      "cell_type": "code",
      "source": [
        "def sum_list(l):\n",
        "  sum = 0\n",
        "  for i in l:\n",
        "    sum = sum+i\n",
        "  return sum"
      ],
      "metadata": {
        "id": "36ezuYxlylE9"
      },
      "execution_count": null,
      "outputs": []
    },
    {
      "cell_type": "code",
      "source": [
        "sum_list([1,2,3,3])"
      ],
      "metadata": {
        "colab": {
          "base_uri": "https://localhost:8080/"
        },
        "id": "o9MkBXLm0UHp",
        "outputId": "87e33773-08ea-4214-d1cf-b1c54a6fd3ef"
      },
      "execution_count": null,
      "outputs": [
        {
          "output_type": "execute_result",
          "data": {
            "text/plain": [
              "9"
            ]
          },
          "metadata": {},
          "execution_count": 9
        }
      ]
    },
    {
      "cell_type": "code",
      "source": [
        "# sum of all the elements of the list using reduce\n",
        "from functools import reduce\n",
        "reduce(lambda x,y : x+y,[47,11,42,13])"
      ],
      "metadata": {
        "colab": {
          "base_uri": "https://localhost:8080/"
        },
        "id": "xZGucFnvyvEc",
        "outputId": "f8ffe6b4-057c-4215-9c4a-bdb7595f90ef"
      },
      "execution_count": null,
      "outputs": [
        {
          "output_type": "execute_result",
          "data": {
            "text/plain": [
              "113"
            ]
          },
          "metadata": {},
          "execution_count": 10
        }
      ]
    },
    {
      "cell_type": "code",
      "source": [
        "'''\n",
        "so first of all x = 47 and y = 11\n",
        "now x+y = 58\n",
        "now x = 58 and y = 42\n",
        "so x+y means 58+42 = 100\n",
        "now x = 100 and y = 13\n",
        "so x+y = 113\n",
        "this is actually happens in the memory\n",
        "'''"
      ],
      "metadata": {
        "id": "3Ip0Faacy51y"
      },
      "execution_count": null,
      "outputs": []
    },
    {
      "cell_type": "code",
      "source": [],
      "metadata": {
        "id": "4umQCiZZ1jjR"
      },
      "execution_count": null,
      "outputs": []
    },
    {
      "cell_type": "markdown",
      "source": [
        "# **PRACTICAL QUESTIONS OF FUNCTIONS**\n",
        "# Q1. Write a Python function that takes a list of numbers as input and returns the sum of all even numbers in the list.\n",
        "\n"
      ],
      "metadata": {
        "id": "aj-Af8S515Vp"
      }
    },
    {
      "cell_type": "code",
      "source": [
        "def sum_even(l):\n",
        "  sum = 0\n",
        "  for i in l:\n",
        "    if i%2 == 0:\n",
        "      sum = sum+i\n",
        "  return sum"
      ],
      "metadata": {
        "id": "EmMd9ZWQ2Lp5"
      },
      "execution_count": null,
      "outputs": []
    },
    {
      "cell_type": "code",
      "source": [
        "sum_even([1,2,3,4,5,6,7,8,9,10,11])"
      ],
      "metadata": {
        "colab": {
          "base_uri": "https://localhost:8080/"
        },
        "id": "1slg80IJ2S9-",
        "outputId": "f624dd6b-926f-4202-c164-28060dbf1c2f"
      },
      "execution_count": null,
      "outputs": [
        {
          "output_type": "execute_result",
          "data": {
            "text/plain": [
              "30"
            ]
          },
          "metadata": {},
          "execution_count": 15
        }
      ]
    },
    {
      "cell_type": "markdown",
      "source": [
        "# Q2. Create a Python function that accepts a string and returns the reverse of that string."
      ],
      "metadata": {
        "id": "xvZ9tZSX3513"
      }
    },
    {
      "cell_type": "code",
      "source": [
        "def rev_string(a):\n",
        "  return a[::-1]"
      ],
      "metadata": {
        "id": "tQivVVlL4BPh"
      },
      "execution_count": null,
      "outputs": []
    },
    {
      "cell_type": "code",
      "source": [
        "rev_string(\"vijay\")"
      ],
      "metadata": {
        "colab": {
          "base_uri": "https://localhost:8080/",
          "height": 36
        },
        "id": "d5MPBa6R4Oi6",
        "outputId": "b6bb7bbd-3bba-4a65-fa61-1b9c13baf285"
      },
      "execution_count": null,
      "outputs": [
        {
          "output_type": "execute_result",
          "data": {
            "text/plain": [
              "'yajiv'"
            ],
            "application/vnd.google.colaboratory.intrinsic+json": {
              "type": "string"
            }
          },
          "metadata": {},
          "execution_count": 26
        }
      ]
    },
    {
      "cell_type": "code",
      "source": [
        "rev_string(\"sanjay\")"
      ],
      "metadata": {
        "colab": {
          "base_uri": "https://localhost:8080/",
          "height": 36
        },
        "id": "eLj80u334Rbm",
        "outputId": "e71a9ea9-0dab-460b-b86b-0244fc0fea9d"
      },
      "execution_count": null,
      "outputs": [
        {
          "output_type": "execute_result",
          "data": {
            "text/plain": [
              "'yajnas'"
            ],
            "application/vnd.google.colaboratory.intrinsic+json": {
              "type": "string"
            }
          },
          "metadata": {},
          "execution_count": 27
        }
      ]
    },
    {
      "cell_type": "code",
      "source": [
        "rev_string(\"pwskills\")"
      ],
      "metadata": {
        "colab": {
          "base_uri": "https://localhost:8080/",
          "height": 36
        },
        "id": "oUhncnr_4Wj6",
        "outputId": "67d1398a-72e9-4437-878e-75a41bbc66de"
      },
      "execution_count": null,
      "outputs": [
        {
          "output_type": "execute_result",
          "data": {
            "text/plain": [
              "'sllikswp'"
            ],
            "application/vnd.google.colaboratory.intrinsic+json": {
              "type": "string"
            }
          },
          "metadata": {},
          "execution_count": 28
        }
      ]
    },
    {
      "cell_type": "code",
      "source": [
        "rev_string(\"12345678910\")"
      ],
      "metadata": {
        "colab": {
          "base_uri": "https://localhost:8080/",
          "height": 36
        },
        "id": "QjZoGu8X4ZZi",
        "outputId": "93704dd6-2e77-400a-c021-2280b20eb3b3"
      },
      "execution_count": null,
      "outputs": [
        {
          "output_type": "execute_result",
          "data": {
            "text/plain": [
              "'01987654321'"
            ],
            "application/vnd.google.colaboratory.intrinsic+json": {
              "type": "string"
            }
          },
          "metadata": {},
          "execution_count": 29
        }
      ]
    },
    {
      "cell_type": "code",
      "source": [
        "a = lambda x : x[::-1]"
      ],
      "metadata": {
        "id": "wrCZ0JlG4dPA"
      },
      "execution_count": null,
      "outputs": []
    },
    {
      "cell_type": "code",
      "source": [
        "a(\"vijay\")"
      ],
      "metadata": {
        "colab": {
          "base_uri": "https://localhost:8080/",
          "height": 36
        },
        "id": "ZnWYS32u4lwV",
        "outputId": "04ef0a39-b255-4e05-a134-0d5ab8309578"
      },
      "execution_count": null,
      "outputs": [
        {
          "output_type": "execute_result",
          "data": {
            "text/plain": [
              "'yajiv'"
            ],
            "application/vnd.google.colaboratory.intrinsic+json": {
              "type": "string"
            }
          },
          "metadata": {},
          "execution_count": 32
        }
      ]
    },
    {
      "cell_type": "markdown",
      "source": [
        "# Q3. Implement a Python function that takes a list of integers and returns a new list containing the squares of the each number\n"
      ],
      "metadata": {
        "id": "PMcZAO3O5kYy"
      }
    },
    {
      "cell_type": "code",
      "source": [
        "def squr(l):\n",
        "  return [i**2 for i in l]"
      ],
      "metadata": {
        "id": "svAyiRvZ5uBt"
      },
      "execution_count": null,
      "outputs": []
    },
    {
      "cell_type": "code",
      "source": [
        "squr([2,4,6])"
      ],
      "metadata": {
        "colab": {
          "base_uri": "https://localhost:8080/"
        },
        "id": "f7i52SgN53t9",
        "outputId": "eec3cb51-a997-421b-e1e4-e164eaba3b7a"
      },
      "execution_count": null,
      "outputs": [
        {
          "output_type": "execute_result",
          "data": {
            "text/plain": [
              "[4, 16, 36]"
            ]
          },
          "metadata": {},
          "execution_count": 36
        }
      ]
    },
    {
      "cell_type": "code",
      "source": [
        "def squr(l):\n",
        "  return list(map(lambda x : x**2,l))"
      ],
      "metadata": {
        "id": "HEpOdi2M58Wl"
      },
      "execution_count": null,
      "outputs": []
    },
    {
      "cell_type": "code",
      "source": [
        "squr([2,4,6])"
      ],
      "metadata": {
        "colab": {
          "base_uri": "https://localhost:8080/"
        },
        "id": "x9ystqzo6JQL",
        "outputId": "703508f6-8986-4ce4-8f0c-c435c2868c13"
      },
      "execution_count": null,
      "outputs": [
        {
          "output_type": "execute_result",
          "data": {
            "text/plain": [
              "[4, 16, 36]"
            ]
          },
          "metadata": {},
          "execution_count": 38
        }
      ]
    },
    {
      "cell_type": "code",
      "source": [
        "def squr(l):\n",
        "  li = []\n",
        "  for i in l:\n",
        "    li.append(i**2)\n",
        "  return li\n"
      ],
      "metadata": {
        "id": "2zpfjdTY7EYI"
      },
      "execution_count": null,
      "outputs": []
    },
    {
      "cell_type": "code",
      "source": [
        "squr([44,5,6,9])"
      ],
      "metadata": {
        "colab": {
          "base_uri": "https://localhost:8080/"
        },
        "id": "cHTUlscW7Rq4",
        "outputId": "8e30b5f7-be11-4259-b257-efc3f05a93b0"
      },
      "execution_count": null,
      "outputs": [
        {
          "output_type": "execute_result",
          "data": {
            "text/plain": [
              "[1936, 25, 36, 81]"
            ]
          },
          "metadata": {},
          "execution_count": 49
        }
      ]
    },
    {
      "cell_type": "code",
      "source": [
        "a= lambda x : x**2"
      ],
      "metadata": {
        "colab": {
          "base_uri": "https://localhost:8080/"
        },
        "id": "57a9DBrz7UvY",
        "outputId": "df734624-c8ab-4c57-f1e9-b4ed9b55736c"
      },
      "execution_count": null,
      "outputs": [
        {
          "output_type": "execute_result",
          "data": {
            "text/plain": [
              "<function __main__.<lambda>(x)>"
            ]
          },
          "metadata": {},
          "execution_count": 50
        }
      ]
    },
    {
      "cell_type": "code",
      "source": [
        "a([2,4,6,8,9,7])"
      ],
      "metadata": {
        "colab": {
          "base_uri": "https://localhost:8080/"
        },
        "id": "l4W1g28D7a3f",
        "outputId": "33efb00e-95df-4586-cc78-4a4f89c43694"
      },
      "execution_count": null,
      "outputs": [
        {
          "output_type": "execute_result",
          "data": {
            "text/plain": [
              "[7, 9, 8, 6, 4, 2]"
            ]
          },
          "metadata": {},
          "execution_count": 51
        }
      ]
    },
    {
      "cell_type": "code",
      "source": [
        "l = [6,6,2,4,3,5]\n",
        "list(map(lambda a:a**2,l))"
      ],
      "metadata": {
        "colab": {
          "base_uri": "https://localhost:8080/"
        },
        "id": "tyCVz0gi7gU6",
        "outputId": "577a2bee-3a33-45ff-ada6-48fcf2567b64"
      },
      "execution_count": null,
      "outputs": [
        {
          "output_type": "execute_result",
          "data": {
            "text/plain": [
              "[36, 36, 4, 16, 9, 25]"
            ]
          },
          "metadata": {},
          "execution_count": 53
        }
      ]
    },
    {
      "cell_type": "markdown",
      "source": [
        "# Q4. Write a Python function that checks if a given number is prime or not from 1 to 200."
      ],
      "metadata": {
        "id": "atgl1Po577kz"
      }
    },
    {
      "cell_type": "code",
      "source": [
        "n = range(1,201)\n",
        "def check_prime(n):\n",
        "  if n < 2:\n",
        "    return False\n",
        "  for i in range(2,n):\n",
        "    if n%i == 0:\n",
        "      return False\n",
        "  return True"
      ],
      "metadata": {
        "id": "r7mkvGHt8Fo7"
      },
      "execution_count": null,
      "outputs": []
    },
    {
      "cell_type": "code",
      "source": [
        "check_prime(123)"
      ],
      "metadata": {
        "colab": {
          "base_uri": "https://localhost:8080/"
        },
        "id": "SOEnQrC88jzS",
        "outputId": "b122d431-8e7b-4504-c48b-a773e3a8cc9d"
      },
      "execution_count": null,
      "outputs": [
        {
          "output_type": "execute_result",
          "data": {
            "text/plain": [
              "False"
            ]
          },
          "metadata": {},
          "execution_count": 55
        }
      ]
    },
    {
      "cell_type": "code",
      "source": [
        "check_prime(4222)"
      ],
      "metadata": {
        "colab": {
          "base_uri": "https://localhost:8080/"
        },
        "id": "6t8lHdEm8nIp",
        "outputId": "71de70b9-daf4-4fa9-e90d-b1776cfcb450"
      },
      "execution_count": null,
      "outputs": [
        {
          "output_type": "execute_result",
          "data": {
            "text/plain": [
              "False"
            ]
          },
          "metadata": {},
          "execution_count": 56
        }
      ]
    },
    {
      "cell_type": "code",
      "source": [
        "check_prime(8)"
      ],
      "metadata": {
        "colab": {
          "base_uri": "https://localhost:8080/"
        },
        "id": "JnBJ4qGv8rZ4",
        "outputId": "b2664a28-c1f3-46e0-b0ab-ff0c2b61f45b"
      },
      "execution_count": null,
      "outputs": [
        {
          "output_type": "execute_result",
          "data": {
            "text/plain": [
              "False"
            ]
          },
          "metadata": {},
          "execution_count": 57
        }
      ]
    },
    {
      "cell_type": "code",
      "source": [
        "check_prime(2)"
      ],
      "metadata": {
        "colab": {
          "base_uri": "https://localhost:8080/"
        },
        "id": "4zhsCLty8um-",
        "outputId": "13e3438d-7802-411e-d402-92c24161e9c5"
      },
      "execution_count": null,
      "outputs": [
        {
          "output_type": "execute_result",
          "data": {
            "text/plain": [
              "True"
            ]
          },
          "metadata": {},
          "execution_count": 58
        }
      ]
    },
    {
      "cell_type": "code",
      "source": [
        "check_prime(5)"
      ],
      "metadata": {
        "colab": {
          "base_uri": "https://localhost:8080/"
        },
        "id": "j8EPEVYU9t1Z",
        "outputId": "73e4055e-224d-40d3-acd1-76c12f2d0b18"
      },
      "execution_count": null,
      "outputs": [
        {
          "output_type": "execute_result",
          "data": {
            "text/plain": [
              "True"
            ]
          },
          "metadata": {},
          "execution_count": 68
        }
      ]
    },
    {
      "cell_type": "markdown",
      "source": [
        "# Q5. Create an iterator class in Python that generates the Fibonacci sequence up to a specified number of terms.\n"
      ],
      "metadata": {
        "id": "Shylu-Ly973z"
      }
    },
    {
      "cell_type": "code",
      "source": [
        "fib = lambda n : n if n<=1 else fib(n-1)+fib(n-2)"
      ],
      "metadata": {
        "id": "hXDY6RCS-KVq"
      },
      "execution_count": null,
      "outputs": []
    },
    {
      "cell_type": "code",
      "source": [
        "fib(15)"
      ],
      "metadata": {
        "colab": {
          "base_uri": "https://localhost:8080/"
        },
        "id": "UT1OwYdt7bGr",
        "outputId": "70647b03-7271-45d6-a67d-c86cf20a6a87"
      },
      "execution_count": null,
      "outputs": [
        {
          "output_type": "execute_result",
          "data": {
            "text/plain": [
              "610"
            ]
          },
          "metadata": {},
          "execution_count": 2
        }
      ]
    },
    {
      "cell_type": "markdown",
      "source": [
        "# Q6. Write a generator function in Python that yields the powers of 2 up to a given exponent."
      ],
      "metadata": {
        "id": "bhO--zsz7ZsR"
      }
    },
    {
      "cell_type": "code",
      "source": [
        "def gen_fun(x):\n",
        "  yield x**2"
      ],
      "metadata": {
        "id": "hfPX3vUr7nmL"
      },
      "execution_count": null,
      "outputs": []
    },
    {
      "cell_type": "code",
      "source": [
        "num = int(input(\"please enter a number  \"))\n",
        "squr = gen_fun(num)"
      ],
      "metadata": {
        "colab": {
          "base_uri": "https://localhost:8080/"
        },
        "id": "I5SFoDa076rZ",
        "outputId": "5c575295-a2d3-42ac-9520-b90301ab30f9"
      },
      "execution_count": null,
      "outputs": [
        {
          "name": "stdout",
          "output_type": "stream",
          "text": [
            "please enter a number  21\n"
          ]
        }
      ]
    },
    {
      "cell_type": "code",
      "source": [
        "next(squr)"
      ],
      "metadata": {
        "colab": {
          "base_uri": "https://localhost:8080/"
        },
        "id": "cOeaft2f8GBu",
        "outputId": "0a0090aa-6362-4657-f1eb-f4685141e135"
      },
      "execution_count": null,
      "outputs": [
        {
          "output_type": "execute_result",
          "data": {
            "text/plain": [
              "441"
            ]
          },
          "metadata": {},
          "execution_count": 26
        }
      ]
    },
    {
      "cell_type": "markdown",
      "source": [
        "# Q7. Implement a generator function that reads a file line by line and yields each line as a string."
      ],
      "metadata": {
        "id": "NgzD4ohn_VyM"
      }
    },
    {
      "cell_type": "code",
      "source": [],
      "metadata": {
        "id": "em2hzWdCApGz"
      },
      "execution_count": null,
      "outputs": []
    },
    {
      "cell_type": "markdown",
      "source": [
        "# Q8. Use a lambda function in Python to sort a list of tuples based on the second element of each tuple."
      ],
      "metadata": {
        "id": "rjUwOvPkBSYg"
      }
    },
    {
      "cell_type": "code",
      "source": [
        "item_list = [(1,50000),(1,455585200),(1,80)]\n",
        "sorted_list = sorted(item_list, key=lambda x: x[1])\n",
        "print(sorted_list)"
      ],
      "metadata": {
        "colab": {
          "base_uri": "https://localhost:8080/"
        },
        "id": "1ubhUf3uAiJF",
        "outputId": "94760dfe-5147-4102-e41f-f6f0c6c135bc"
      },
      "execution_count": null,
      "outputs": [
        {
          "output_type": "stream",
          "name": "stdout",
          "text": [
            "[(1, 80), (1, 50000), (1, 455585200)]\n"
          ]
        }
      ]
    },
    {
      "cell_type": "markdown",
      "source": [
        "# Q9. Write a Python program that uses `map()` to convert a list of temperatures from Celsius to Fahrenheit."
      ],
      "metadata": {
        "id": "irlWct2xCJuJ"
      }
    },
    {
      "cell_type": "code",
      "source": [
        "list(map(lambda x : x*9/5+32,[100,20,65,90]))"
      ],
      "metadata": {
        "colab": {
          "base_uri": "https://localhost:8080/"
        },
        "id": "oHEv7X6_Ci1t",
        "outputId": "4378be41-ea07-4daa-82f1-ddf0bfef5aff"
      },
      "execution_count": null,
      "outputs": [
        {
          "output_type": "execute_result",
          "data": {
            "text/plain": [
              "[212.0, 68.0, 149.0, 194.0]"
            ]
          },
          "metadata": {},
          "execution_count": 25
        }
      ]
    },
    {
      "cell_type": "markdown",
      "source": [
        "# Q10. Create a Python program that uses `filter()` to remove all the vowels from a given string."
      ],
      "metadata": {
        "id": "TWeztHdjEBai"
      }
    },
    {
      "cell_type": "code",
      "source": [
        "list(filter(lambda x : x if x not in \"aeiou\" else None,\"pwskills\"))"
      ],
      "metadata": {
        "colab": {
          "base_uri": "https://localhost:8080/"
        },
        "id": "_6vMXGGOEJxJ",
        "outputId": "0842d7a9-137b-43ae-8b93-c88474d107e6"
      },
      "execution_count": null,
      "outputs": [
        {
          "output_type": "execute_result",
          "data": {
            "text/plain": [
              "['p', 'w', 's', 'k', 'l', 'l', 's']"
            ]
          },
          "metadata": {},
          "execution_count": 29
        }
      ]
    },
    {
      "cell_type": "markdown",
      "source": [
        "# Q 11 Write a Python program, which returns a list with 2-tuples. Each tuple consists of the order number and the\n",
        "#product of the price per item and the quantity. The product should be increased by 10,- € if the value of the\n",
        "#order is smaller than 100,00 €.\n",
        "#Write a Python program using lambda and map."
      ],
      "metadata": {
        "id": "aDRdTwZEEva9"
      }
    },
    {
      "cell_type": "code",
      "source": [
        "rest = {\"order number\": [34587,98762,77226,88112],\n",
        "        \"Book title and author\": [\"learning python ,mark lutz\",\"programming python , mark lutz\",\"head first python mark berry\",\"version python3 , vijay solanki\"]\n",
        "        ,\"quantity\": [4,5,3,3]\n",
        "        ,\"price per item\": [40,56,32,24]}\n",
        "\n",
        "list(map(lambda x : rest[\"order number\"],rest))"
      ],
      "metadata": {
        "colab": {
          "base_uri": "https://localhost:8080/"
        },
        "id": "s2D9fmaOFdEk",
        "outputId": "43d2fad7-b24a-457f-af21-bf3d9c7538c2"
      },
      "execution_count": null,
      "outputs": [
        {
          "output_type": "execute_result",
          "data": {
            "text/plain": [
              "[[34587, 98762, 77226, 88112],\n",
              " [34587, 98762, 77226, 88112],\n",
              " [34587, 98762, 77226, 88112],\n",
              " [34587, 98762, 77226, 88112]]"
            ]
          },
          "metadata": {},
          "execution_count": 43
        }
      ]
    },
    {
      "cell_type": "code",
      "source": [],
      "metadata": {
        "id": "-V6EGiXNJ8Qn"
      },
      "execution_count": null,
      "outputs": []
    }
  ]
}